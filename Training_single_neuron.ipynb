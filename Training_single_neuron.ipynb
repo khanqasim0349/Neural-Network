{
 "cells": [
  {
   "cell_type": "code",
   "execution_count": 3,
   "id": "4cc0bc19",
   "metadata": {},
   "outputs": [
    {
     "name": "stdout",
     "output_type": "stream",
     "text": [
      "3.262668750268429e-08\n",
      "1.0920088747268221e-06\n",
      "2.9996401583972037 0.9996418684744098 0.0017313845426485254\n"
     ]
    }
   ],
   "source": [
    "# Training single neuron\n",
    "import numpy as np\n",
    "class Neuron:\n",
    "    def __init__(self,inputs,weights,bias):\n",
    "        self.inputs=inputs\n",
    "        self.weights=weights\n",
    "        self.bias=bias\n",
    "        self.output=None\n",
    "    def forward(self):\n",
    "        self.output=np.dot(self.inputs,self.weights)+self.bias\n",
    "        return self.output\n",
    "    def backward(self,yh,y,learning_rate):\n",
    "        dE_dyh=yh-y\n",
    "        dw1=self.inputs[0]*dE_dyh\n",
    "        dw2=self.inputs[1]*dE_dyh\n",
    "        db=dE_dyh\n",
    "#         Updating the paramerters w1,w2 and b\n",
    "        self.weights[0]-=learning_rate*dw1\n",
    "        self.weights[1]-=learning_rate*dw2\n",
    "        self.bias-=learning_rate*db\n",
    "# Making instance of the Neuron class\n",
    "data=np.array([[2,3],[3,3],[2,2.5],[4,1],[2,2],[2,4],[1,1],[0,1],[4,5],[3,4],[2,5]])\n",
    "tvalue=np.array([9,12,8.5,13,8,10,4,1,17,13,11])\n",
    "N=Neuron([2,3],[0.5,1.2],1)\n",
    "# N.forward()\n",
    "# here we are training our model upon the upper data\n",
    "for epoches in range(3500):\n",
    "    err=0\n",
    "    for i in range(5):\n",
    "        N.inputs=data[i]\n",
    "        pred=N.forward()\n",
    "        N.backward(pred,tvalue[i],0.02)\n",
    "        err+=(pred-tvalue[i])**2\n",
    "#         print(pred)\n",
    "print(err/11)\n",
    "# Here we are testing our model\n",
    "testData=np.array([[2,4],[1,1],[0,1],[4,5],[3,4],[2,5]])\n",
    "testTrue=np.array([10,4,1,17,13,11])\n",
    "er=0\n",
    "for i in range(6):\n",
    "    N.inputs=testData[i]\n",
    "    yh=N.forward()\n",
    "    er+=(yh-testTrue[i])**2\n",
    "print(er/6)\n",
    "print(N.weights[0],N.weights[1],N.bias)\n"
   ]
  },
  {
   "cell_type": "code",
   "execution_count": null,
   "id": "b4ce051a",
   "metadata": {},
   "outputs": [],
   "source": []
  },
  {
   "cell_type": "code",
   "execution_count": null,
   "id": "a58a0030",
   "metadata": {},
   "outputs": [],
   "source": []
  }
 ],
 "metadata": {
  "kernelspec": {
   "display_name": "Python 3 (ipykernel)",
   "language": "python",
   "name": "python3"
  },
  "language_info": {
   "codemirror_mode": {
    "name": "ipython",
    "version": 3
   },
   "file_extension": ".py",
   "mimetype": "text/x-python",
   "name": "python",
   "nbconvert_exporter": "python",
   "pygments_lexer": "ipython3",
   "version": "3.11.4"
  }
 },
 "nbformat": 4,
 "nbformat_minor": 5
}
