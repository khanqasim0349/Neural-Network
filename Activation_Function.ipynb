{
 "cells": [
  {
   "cell_type": "code",
   "execution_count": 5,
   "id": "f885dc08",
   "metadata": {},
   "outputs": [
    {
     "data": {
      "text/plain": [
       "[1, 2, 0, 0, 0, 0, 1]"
      ]
     },
     "execution_count": 5,
     "metadata": {},
     "output_type": "execute_result"
    }
   ],
   "source": [
    "# Relu\n",
    "import numpy as np\n",
    "\n",
    "inputs=np.array([1,2,-4,0,-8,-100,1])\n",
    "output=[]\n",
    "for i in inputs:\n",
    "#     This is the ground implementation of ReLu activation function\n",
    "#     if i>0:\n",
    "#         output.append(i)\n",
    "#     elif i<=0:\n",
    "#         output.append(0)\n",
    "# output\n",
    "# The Equation for ReLu activation function\n",
    "    output.append(max(0,i))\n",
    "output"
   ]
  },
  {
   "cell_type": "code",
   "execution_count": 2,
   "id": "ebc76ba2",
   "metadata": {},
   "outputs": [],
   "source": [
    "# Using Relu with class\n",
    "# import nnfs\n",
    "# from nnfs.dataset import spiral_data\n",
    "# nnfs.init()\n",
    "import numpy as np\n",
    "np.random.seed(0)\n",
    "X=np.array([[1,2,3,2.5],\n",
    "            [2.0,5.0,-1.0,2.0],\n",
    "            [-1.5,2.7,3.3,-0.8]])\n",
    "class Dense_Layer:\n",
    "    def __init__(self,n_input,n_neuron):\n",
    "        self.weight=0.10*(np.random.randn(n_input,n_neuron))\n",
    "        self.biases=np.zeros((1,n_neuron))\n",
    "    def forward_pass(self,inputs):\n",
    "        self.output=np.dot(inputs,self.weight)+self.biases\n",
    "# print(np.random.randn(3,4))\n",
    "# layer1=Dense_Layer(4,4)\n",
    "# layer2=Dense_Layer(4,5)\n",
    "\n",
    "# layer1.forward_pass(X)\n",
    "# layer2.forward_pass(layer1.output)\n",
    "# print(layer2.output)\n",
    "# Working with relu activation function\n",
    "class Relu_Activation:\n",
    "    def forward(self,inputs):\n",
    "        self.output=np.maximum(0,inputs)\n",
    "class Sigmoid:\n",
    "    def forward(self,inputs):\n",
    "        exp_values=np.exp(inputs-np.max(inputs,axis=1,keepdims=True))\n",
    "        probabilities=exp_values/np.sum(exp_values,axis=1,keepdims=True)\n",
    "        self.output=probabilities\n",
    "# X,y=spiral_data(samples=100,classes=3)    \n",
    "# layer1=Dense_Layer(4,5)\n",
    "# activationRelu=Relu_Activation()\n",
    "# layer1.forward_pass(X)\n",
    "# activationRelu.forward(layer1.output)\n",
    "\n",
    "# sigmoid_activation=Sigmoid()\n",
    "# sigmoid_activation.forward(activationRelu.output)\n",
    "# print(sigmoid_activation.output[:3])"
   ]
  },
  {
   "cell_type": "code",
   "execution_count": 25,
   "id": "864e80e8",
   "metadata": {},
   "outputs": [
    {
     "name": "stdout",
     "output_type": "stream",
     "text": [
      "[[0.33333333 0.33333333 0.33333333]\n",
      " [0.33335808 0.33330256 0.33333936]\n",
      " [0.33333011 0.33331073 0.33335916]\n",
      " [0.33333986 0.33328997 0.33337017]\n",
      " [0.33335179 0.33326492 0.33338329]]\n"
     ]
    }
   ],
   "source": [
    "import nnfs\n",
    "from nnfs.datasets import spiral_data\n",
    "X,y=spiral_data(samples=100,classes=3)\n",
    "dense1=Dense_Layer(2,3)\n",
    "\n",
    "dense1.forward_pass(X)\n",
    "activation1=Relu_Activation()\n",
    "activation1.forward(dense1.output)\n",
    "\n",
    "dense2=Dense_Layer(3,3)\n",
    "dense2.forward_pass(activation1.output)\n",
    "activation2=Sigmoid()\n",
    "activation2.forward(dense2.output)\n",
    "print(activation2.output[:5])"
   ]
  },
  {
   "cell_type": "code",
   "execution_count": null,
   "id": "76e44360",
   "metadata": {},
   "outputs": [],
   "source": []
  }
 ],
 "metadata": {
  "kernelspec": {
   "display_name": "Python 3 (ipykernel)",
   "language": "python",
   "name": "python3"
  },
  "language_info": {
   "codemirror_mode": {
    "name": "ipython",
    "version": 3
   },
   "file_extension": ".py",
   "mimetype": "text/x-python",
   "name": "python",
   "nbconvert_exporter": "python",
   "pygments_lexer": "ipython3",
   "version": "3.11.4"
  }
 },
 "nbformat": 4,
 "nbformat_minor": 5
}
