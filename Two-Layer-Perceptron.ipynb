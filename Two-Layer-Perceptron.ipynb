{
 "cells": [
  {
   "cell_type": "code",
   "execution_count": null,
   "id": "daca9245",
   "metadata": {},
   "outputs": [],
   "source": [
    "import numpy as np\n",
    "\n",
    "class Neuron:\n",
    "    def __init__(self, inputs, weights, bias):\n",
    "        self.inputs = inputs\n",
    "        self.weights = weights\n",
    "        self.bias = bias\n",
    "        self.output = None\n",
    "\n",
    "    def forward(self):\n",
    "        self.output = np.dot(self.inputs, self.weights) + self.bias\n",
    "        return self.output\n",
    "\n",
    "    def find_Error(self, target):\n",
    "        output = self.output - target\n",
    "        return output\n",
    "\n",
    "    def backward(self, yh, y, learning_rate):\n",
    "        dE_dyh = yh - y\n",
    "        \n",
    "        # Update weights\n",
    "        self.weights -= learning_rate * dE_dyh\n",
    "        # Update bias\n",
    "        self.bias -= learning_rate * dE_dyh\n",
    "\n",
    "# Creating instances\n",
    "\n",
    "inputArray=np.array([4,1,2])\n",
    "\n",
    "weightArray=np.array([[1,2,0.5,1],[0.1,0.9,0.7,1],[1,1,2,1]])\n",
    "biasArray = np.array([1.0,1.0,1.0,1.0])\n",
    "\n",
    "layer1 = Neuron(inputArray, weightArray, biasArray)\n",
    "layer1_output = layer1.forward()\n",
    "print(\"Layer 1 output:\", layer1_output)\n",
    "\n",
    "layer2_weights = np.array([0.9, 1, 2, 0.1])\n",
    "layer2_bias = 1\n",
    "layer2 = Neuron(layer1_output, layer2_weights, layer2_bias)\n",
    "yh = layer2.forward()\n",
    "\n",
    "# Backpropagation\n",
    "for epochs in range(135):\n",
    "    yh = layer2.forward()\n",
    "    layer2.backward(yh, 50, 0.02)\n",
    "    print(\"Predicted value after epoch\", epochs, \"is:\", yh)\n",
    "# print(\"Layer 2 updated weights\")\n",
    "# print(layer2.weights)\n",
    "# print(\"Layer 1 updated weights\")\n",
    "# print(layer1.weights)\n",
    "\n"
   ]
  }
 ],
 "metadata": {
  "kernelspec": {
   "display_name": "Python 3 (ipykernel)",
   "language": "python",
   "name": "python3"
  },
  "language_info": {
   "codemirror_mode": {
    "name": "ipython",
    "version": 3
   },
   "file_extension": ".py",
   "mimetype": "text/x-python",
   "name": "python",
   "nbconvert_exporter": "python",
   "pygments_lexer": "ipython3",
   "version": "3.11.4"
  }
 },
 "nbformat": 4,
 "nbformat_minor": 5
}
