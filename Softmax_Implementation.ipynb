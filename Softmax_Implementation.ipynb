{
 "cells": [
  {
   "cell_type": "code",
   "execution_count": 1,
   "id": "2bee1f6f",
   "metadata": {},
   "outputs": [
    {
     "name": "stdout",
     "output_type": "stream",
     "text": [
      "3\n"
     ]
    }
   ],
   "source": [
    "# example of the max of a list of numbers\n",
    "# define data\n",
    "data = [1, 3, 2]\n",
    "# calculate the max of the list\n",
    "result = max(data)\n",
    "print(result)"
   ]
  },
  {
   "cell_type": "code",
   "execution_count": 3,
   "id": "2bb679cb",
   "metadata": {},
   "outputs": [
    {
     "name": "stdout",
     "output_type": "stream",
     "text": [
      "1\n"
     ]
    }
   ],
   "source": [
    "# example of the argmax of a list of numbers\n",
    "import numpy as np\n",
    "# define data\n",
    "data =np.array([1, 3, 2])\n",
    "# calculate the argmax of the list\n",
    "result = np.argmax(data)\n",
    "print(result)"
   ]
  },
  {
   "cell_type": "code",
   "execution_count": 4,
   "id": "a3ccc21d",
   "metadata": {},
   "outputs": [
    {
     "name": "stdout",
     "output_type": "stream",
     "text": [
      "0.09003057317038046 0.6652409557748219 0.24472847105479767\n",
      "1.0\n"
     ]
    }
   ],
   "source": [
    "# transform values into probabilities\n",
    "from math import exp\n",
    "# calculate each probability\n",
    "p1 = exp(1) / (exp(1) + exp(3) + exp(2))\n",
    "p2 = exp(3) / (exp(1) + exp(3) + exp(2))\n",
    "p3 = exp(2) / (exp(1) + exp(3) + exp(2))\n",
    "# report probabilities\n",
    "print(p1, p2, p3)\n",
    "# report sum of probabilities\n",
    "print(p1 + p2 + p3)"
   ]
  },
  {
   "cell_type": "code",
   "execution_count": 5,
   "id": "631693c3",
   "metadata": {},
   "outputs": [
    {
     "name": "stdout",
     "output_type": "stream",
     "text": [
      "[0.09003057 0.66524096 0.24472847]\n",
      "1.0\n"
     ]
    }
   ],
   "source": [
    "\n",
    "# example of a function for calculating softmax for a list of numbers\n",
    "from numpy import exp\n",
    " \n",
    "# calculate the softmax of a vector\n",
    "def softmax(vector):\n",
    " e = exp(vector)\n",
    " return e / e.sum()\n",
    " \n",
    "# define data\n",
    "data = [1, 3, 2]\n",
    "# convert list of numbers to a list of probabilities\n",
    "result = softmax(data)\n",
    "# report the probabilities\n",
    "print(result)\n",
    "# report the sum of the probabilities\n",
    "print(sum(result))"
   ]
  },
  {
   "cell_type": "code",
   "execution_count": 7,
   "id": "4921839d",
   "metadata": {},
   "outputs": [
    {
     "name": "stdout",
     "output_type": "stream",
     "text": [
      "[0.0320586  0.08714432 0.23688282 0.64391426]\n",
      "1.0\n"
     ]
    }
   ],
   "source": [
    "# Practice section\n",
    "import numpy as np\n",
    "# Making an array\n",
    "data=np.array([1,2,3,4])\n",
    "# Finding the probability of each in the array\n",
    "def softmax(inputs):\n",
    "    e=exp(inputs)\n",
    "    return e/e.sum()\n",
    "result=softmax(data)\n",
    "print(result)\n",
    "print(sum(result))"
   ]
  },
  {
   "cell_type": "code",
   "execution_count": 27,
   "id": "ca9da581",
   "metadata": {},
   "outputs": [
    {
     "name": "stdout",
     "output_type": "stream",
     "text": [
      "[2.718281828459045, 7.3890560989306495, 20.085536923187664, 1.0]\n",
      "31.19287485057736\n",
      "[0.08714431874203257, 0.23688281808991013, 0.6439142598879722, 0.03205860328008499]\n",
      "1.0\n"
     ]
    }
   ],
   "source": [
    "import math\n",
    "from numpy import exp\n",
    "data=[1,2,3,0]\n",
    "# finding the exponential values\n",
    "E=math.e\n",
    "output=[]\n",
    "for i in data:\n",
    "    output.append(E**i)\n",
    "print(output)\n",
    "# Now lets find the probabilities of each element in the list\n",
    "normalize_sum=sum(output)\n",
    "print(normalize_sum)\n",
    "norm_values=[]\n",
    "for values in output:\n",
    "    norm_values.append(values/normalize_sum)\n",
    "print(norm_values)\n",
    "print(sum(norm_values))"
   ]
  },
  {
   "cell_type": "code",
   "execution_count": 51,
   "id": "f40aa573",
   "metadata": {},
   "outputs": [
    {
     "name": "stdout",
     "output_type": "stream",
     "text": [
      "[[ 135.72296484]\n",
      " [7333.35859605]\n",
      " [   7.98280655]]\n"
     ]
    },
    {
     "data": {
      "text/plain": [
       "array([1., 1., 1.])"
      ]
     },
     "execution_count": 51,
     "metadata": {},
     "output_type": "execute_result"
    }
   ],
   "source": [
    "# Working with 2D array\n",
    "data=np.array([[4.8,1.21,2.385],\n",
    "               [8.9,-1.81,0.2],\n",
    "               [1.41,1.051,0.026]])\n",
    "output=np.exp(data)\n",
    "# norm_values=output/np.sum(output)\n",
    "norm_values=np.sum(output,axis=1,keepdims=True)\n",
    "# print(output)\n",
    "# print(sum(norm_values))\n",
    "print(norm_values)\n",
    "norm_output=output/norm_values\n",
    "output1=(np.sum(norm_output,axis=1))\n",
    "output1"
   ]
  },
  {
   "cell_type": "code",
   "execution_count": 59,
   "id": "cc8315ca",
   "metadata": {},
   "outputs": [
    {
     "ename": "NameError",
     "evalue": "name 'spiral_data' is not defined",
     "output_type": "error",
     "traceback": [
      "\u001b[1;31m---------------------------------------------------------------------------\u001b[0m",
      "\u001b[1;31mNameError\u001b[0m                                 Traceback (most recent call last)",
      "Cell \u001b[1;32mIn[59], line 1\u001b[0m\n\u001b[1;32m----> 1\u001b[0m c,y\u001b[38;5;241m=\u001b[39mspiral_data(classes\u001b[38;5;241m=\u001b[39m\u001b[38;5;241m100\u001b[39m,samples\u001b[38;5;241m=\u001b[39m\u001b[38;5;241m3\u001b[39m)\n",
      "\u001b[1;31mNameError\u001b[0m: name 'spiral_data' is not defined"
     ]
    }
   ],
   "source": [
    "c,y=spiral_data(classes=100,samples=3)"
   ]
  },
  {
   "cell_type": "code",
   "execution_count": null,
   "id": "2d17347c",
   "metadata": {},
   "outputs": [],
   "source": []
  }
 ],
 "metadata": {
  "kernelspec": {
   "display_name": "Python 3 (ipykernel)",
   "language": "python",
   "name": "python3"
  },
  "language_info": {
   "codemirror_mode": {
    "name": "ipython",
    "version": 3
   },
   "file_extension": ".py",
   "mimetype": "text/x-python",
   "name": "python",
   "nbconvert_exporter": "python",
   "pygments_lexer": "ipython3",
   "version": "3.11.4"
  }
 },
 "nbformat": 4,
 "nbformat_minor": 5
}
