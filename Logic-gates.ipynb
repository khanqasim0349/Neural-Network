{
 "cells": [
  {
   "cell_type": "code",
   "execution_count": 25,
   "id": "68ce2dd4",
   "metadata": {},
   "outputs": [
    {
     "name": "stdout",
     "output_type": "stream",
     "text": [
      "Random element from X1: 1\n",
      "Random element from X2: 1\n",
      "The And output is:  1\n"
     ]
    }
   ],
   "source": [
    "# And gate\n",
    "import numpy as np\n",
    "X1 = np.array([0, 0, 1, 1])\n",
    "X2 = np.array([0, 1, 0, 1])\n",
    "weights = np.array([20, 20])\n",
    "bias = -30\n",
    "# Getting random elements from the arrays.\n",
    "rand_X1 = np.random.choice(X1)\n",
    "rand_X2 = np.random.choice(X2)\n",
    "print(\"Random element from X1:\", rand_X1)\n",
    "print(\"Random element from X2:\", rand_X2)\n",
    "output=(rand_X1*weights[0]+rand_X2*weights[1])+bias\n",
    "# print(output)\n",
    "if output<0:\n",
    "    output=0\n",
    "elif output>0:\n",
    "    output=1\n",
    "print(\"The And output is: \",output)"
   ]
  },
  {
   "cell_type": "code",
   "execution_count": 5,
   "id": "1a789b08",
   "metadata": {},
   "outputs": [
    {
     "name": "stdout",
     "output_type": "stream",
     "text": [
      "Random element from X1: 1\n",
      "Random element from X2: 0\n",
      "The OR output is:  1\n"
     ]
    }
   ],
   "source": [
    "# OR Gate\n",
    "import numpy as np\n",
    "X1 = np.array([0, 0, 1, 1])\n",
    "X2 = np.array([0, 1, 0, 1])\n",
    "weights = np.array([20, 20])\n",
    "bias = -10\n",
    "# Getting random elements from the arrays.\n",
    "rand_X1 = np.random.choice(X1)\n",
    "rand_X2 = np.random.choice(X2)\n",
    "print(\"Random element from X1:\", rand_X1)\n",
    "print(\"Random element from X2:\", rand_X2)\n",
    "output=(rand_X1*weights[0]+rand_X2*weights[1])+bias\n",
    "# print(output)\n",
    "if output>0:\n",
    "    output=1\n",
    "elif output<0:\n",
    "    output=0\n",
    "print(\"The OR output is: \",output)"
   ]
  },
  {
   "cell_type": "code",
   "execution_count": 28,
   "id": "b77b6832",
   "metadata": {},
   "outputs": [
    {
     "name": "stdout",
     "output_type": "stream",
     "text": [
      "Random element from X1:  0\n",
      "The OR output is:  1\n"
     ]
    }
   ],
   "source": [
    "# NOT Gate\n",
    "import numpy as np\n",
    "X1=np.array([0,1])\n",
    "weight=-20\n",
    "bias=10\n",
    "rand_X1=np.random.choice(X1)\n",
    "output=rand_X1*weight+bias\n",
    "print(\"Random element from X1: \",rand_X1)\n",
    "if output>0:\n",
    "    output=1\n",
    "elif output<0:\n",
    "    output=0\n",
    "print(\"The OR output is: \",output)"
   ]
  },
  {
   "cell_type": "code",
   "execution_count": 33,
   "id": "92dfc6e9",
   "metadata": {},
   "outputs": [
    {
     "name": "stdout",
     "output_type": "stream",
     "text": [
      "XNOR(0, 1) = 0\n",
      "XNOR(1, 1) = 1\n",
      "XNOR(0, 0) = 1\n",
      "XNOR(1, 0) = 0\n"
     ]
    }
   ],
   "source": [
    "# XNOR gate\n",
    "import numpy as np\n",
    "\n",
    "# define Unit Step Function\n",
    "def unitStep(v):\n",
    "\tif v >= 0:\n",
    "\t\treturn 1\n",
    "\telse:\n",
    "\t\treturn 0\n",
    "\n",
    "# design Perceptron Model\n",
    "def perceptronModel(x, w, b):\n",
    "\tv = np.dot(w, x) + b\n",
    "\ty = unitStep(v)\n",
    "\treturn y\n",
    "\n",
    "# NOT Logic Function\n",
    "# wNOT = -1, bNOT = 0.5\n",
    "def NOT_logicFunction(x):\n",
    "\twNOT = -1\n",
    "\tbNOT = 0.5\n",
    "\treturn perceptronModel(x, wNOT, bNOT)\n",
    "\n",
    "# AND Logic Function\n",
    "# w1 = 1, w2 = 1, bAND = -1.5\n",
    "def AND_logicFunction(x):\n",
    "\tw = np.array([1, 1])\n",
    "\tbAND = -1.5\n",
    "\treturn perceptronModel(x, w, bAND)\n",
    "\n",
    "# OR Logic Function\n",
    "# here w1 = wOR1 = 1, \n",
    "# w2 = wOR2 = 1, bOR = -0.5\n",
    "def OR_logicFunction(x):\n",
    "\tw = np.array([1, 1])\n",
    "\tbOR = -0.5\n",
    "\treturn perceptronModel(x, w, bOR)\n",
    "\n",
    "# XNOR Logic Function\n",
    "# with AND, OR and NOT \n",
    "# function calls in sequence\n",
    "def XNOR_logicFunction(x):\n",
    "\ty1 = OR_logicFunction(x)\n",
    "\ty2 = AND_logicFunction(x)\n",
    "\ty3 = NOT_logicFunction(y1)\n",
    "\tfinal_x = np.array([y2, y3])\n",
    "\tfinalOutput = OR_logicFunction(final_x)\n",
    "\treturn finalOutput\n",
    "\n",
    "# testing the Perceptron Model\n",
    "test1 = np.array([0, 1])\n",
    "test2 = np.array([1, 1])\n",
    "test3 = np.array([0, 0])\n",
    "test4 = np.array([1, 0])\n",
    "\n",
    "print(\"XNOR({}, {}) = {}\".format(0, 1, XNOR_logicFunction(test1)))\n",
    "print(\"XNOR({}, {}) = {}\".format(1, 1, XNOR_logicFunction(test2)))\n",
    "print(\"XNOR({}, {}) = {}\".format(0, 0, XNOR_logicFunction(test3)))\n",
    "print(\"XNOR({}, {}) = {}\".format(1, 0, XNOR_logicFunction(test4)))\n"
   ]
  },
  {
   "cell_type": "code",
   "execution_count": null,
   "id": "9fb1dd2d",
   "metadata": {},
   "outputs": [],
   "source": [
    "# # XOR gate\n",
    "# import numpy as np\n",
    "\n",
    "# # define Unit Step Function\n",
    "# def unitStep(v):\n",
    "# \tif v >= 0:\n",
    "# \t\treturn 1\n",
    "# \telse:\n",
    "# \t\treturn 0\n",
    "\n",
    "# # design Perceptron Model\n",
    "# def perceptronModel(x, w, b):\n",
    "# \tv = np.dot(w, x) + b\n",
    "# \ty = unitStep(v)\n",
    "# \treturn y\n",
    "\n",
    "# # NOT Logic Function\n",
    "# # wNOT = -1, bNOT = 0.5\n",
    "# def NOT_logicFunction(x):\n",
    "# \twNOT = -1\n",
    "# \tbNOT = 0.5\n",
    "# \treturn perceptronModel(x, wNOT, bNOT)\n",
    "\n",
    "# # AND Logic Function\n",
    "# # w1 = 1, w2 = 1, bAND = -1.5\n",
    "# def AND_logicFunction(x):\n",
    "# \tw = np.array([1, 1])\n",
    "# \tbAND = -1.5\n",
    "# \treturn perceptronModel(x, w, bAND)\n",
    "\n",
    "# # OR Logic Function\n",
    "# # here w1 = wOR1 = 1, \n",
    "# # w2 = wOR2 = 1, bOR = -0.5\n",
    "# def OR_logicFunction(x):\n",
    "# \tw = np.array([1, 1])\n",
    "# \tbOR = -0.5\n",
    "# \treturn perceptronModel(x, w, bOR)\n",
    "\n",
    "# # XNOR Logic Function\n",
    "# # with AND, OR and NOT \n",
    "# # function calls in sequence\n",
    "# def XNOR_logicFunction(x):\n",
    "# \ty1 = OR_logicFunction(x)\n",
    "# \ty2 = AND_logicFunction(x)\n",
    "# \ty3 = NOT_logicFunction(y1)\n",
    "# \tfinal_x = np.array([y2, y3])\n",
    "# \tfinalOutput = OR_logicFunction(final_x)\n",
    "# \treturn finalOutput\n",
    "\n",
    "# # testing the Perceptron Model\n",
    "# test1 = np.array([0, 1])\n",
    "# test2 = np.array([1, 1])\n",
    "# test3 = np.array([0, 0])\n",
    "# test4 = np.array([1, 0])\n",
    "\n",
    "# print(\"XNOR({}, {}) = {}\".format(0, 1, XNOR_logicFunction(test1)))\n",
    "# print(\"XNOR({}, {}) = {}\".format(1, 1, XNOR_logicFunction(test2)))\n",
    "# print(\"XNOR({}, {}) = {}\".format(0, 0, XNOR_logicFunction(test3)))\n",
    "# print(\"XNOR({}, {}) = {}\".format(1, 0, XNOR_logicFunction(test4)))\n"
   ]
  }
 ],
 "metadata": {
  "kernelspec": {
   "display_name": "Python 3 (ipykernel)",
   "language": "python",
   "name": "python3"
  },
  "language_info": {
   "codemirror_mode": {
    "name": "ipython",
    "version": 3
   },
   "file_extension": ".py",
   "mimetype": "text/x-python",
   "name": "python",
   "nbconvert_exporter": "python",
   "pygments_lexer": "ipython3",
   "version": "3.11.4"
  }
 },
 "nbformat": 4,
 "nbformat_minor": 5
}
