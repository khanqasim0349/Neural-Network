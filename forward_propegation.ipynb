{
 "cells": [
  {
   "cell_type": "code",
   "execution_count": 7,
   "id": "fd9a7444",
   "metadata": {},
   "outputs": [
    {
     "name": "stdout",
     "output_type": "stream",
     "text": [
      "first layer and its activation\n",
      "[[ 1.92760453 -1.62513585 -2.15966161 -5.91850607  8.94804342  1.71483418\n",
      "   4.83525092 -0.05678885 -2.99838272 -1.56536196]] [[0.87298404 0.16449779 0.10343183 0.002682   0.99987003 0.84746225\n",
      "  0.99211793 0.4858066  0.04749899 0.17287859]]\n",
      "2nd layer and its activation\n",
      "[[ 5.58908835 -4.74938618 22.72515382 36.43198851]] [[0.99627549 0.00858271 1.         1.        ]]\n"
     ]
    }
   ],
   "source": [
    "import numpy as np\n",
    "class MainLayer:\n",
    "    def __init__(self):\n",
    "        input=None\n",
    "        output=None\n",
    "class FcLayer(MainLayer):\n",
    "    def __init__(self,inputs_neuron,output_neuron):\n",
    "        super().__init__()\n",
    "        self.weights=np.random.randn(inputs_neuron,output_neuron)\n",
    "        self.bias=np.random.randn(1,output_neuron)\n",
    "    def forward(self,inputs):\n",
    "        self.inputs=inputs\n",
    "        self.output=np.dot(self.inputs,self.weights)+self.bias\n",
    "        return self.output\n",
    "class Activation(MainLayer):\n",
    "    def __init__(self,inputs,act):\n",
    "        super().__init__()\n",
    "        self.inputs=inputs\n",
    "        self.activation=act\n",
    "    def forward(self):\n",
    "        return self.activation(self.inputs)\n",
    "def sigmoid(z):\n",
    "    return 1/(1+np.exp(-z))\n",
    "arr=np.array([2,3,1])\n",
    "fc=FcLayer(3,10)\n",
    "o1=fc.forward(arr)\n",
    "fc2=FcLayer(10,4)\n",
    "o2=fc2.forward(o1)\n",
    "aclayer=Activation(o1,sigmoid)\n",
    "a1=aclayer.forward()\n",
    "aclayer2=Activation(o2,sigmoid)\n",
    "o4=aclayer2.forward()\n",
    "print('first layer and it''s activation')\n",
    "print(o1,a1)\n",
    "print('2nd layer and it''s activation')\n",
    "print(o2,o4)"
   ]
  },
  {
   "cell_type": "code",
   "execution_count": null,
   "id": "8a12ff82",
   "metadata": {},
   "outputs": [],
   "source": []
  }
 ],
 "metadata": {
  "kernelspec": {
   "display_name": "Python 3 (ipykernel)",
   "language": "python",
   "name": "python3"
  },
  "language_info": {
   "codemirror_mode": {
    "name": "ipython",
    "version": 3
   },
   "file_extension": ".py",
   "mimetype": "text/x-python",
   "name": "python",
   "nbconvert_exporter": "python",
   "pygments_lexer": "ipython3",
   "version": "3.11.4"
  }
 },
 "nbformat": 4,
 "nbformat_minor": 5
}
